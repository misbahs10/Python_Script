{
 "cells": [
  {
   "cell_type": "code",
   "execution_count": 2,
   "id": "90f565ba-ba78-4b98-a418-3ec7e5f4a5d1",
   "metadata": {},
   "outputs": [
    {
     "name": "stdout",
     "output_type": "stream",
     "text": [
      "hi, jupyter\n"
     ]
    }
   ],
   "source": [
    "print(\"hi, jupyter\")"
   ]
  },
  {
   "cell_type": "code",
   "execution_count": 3,
   "id": "cd8cab4f-6fd7-458b-ac98-7534fe139786",
   "metadata": {},
   "outputs": [
    {
     "name": "stdout",
     "output_type": "stream",
     "text": [
      "enter your name misbah\n"
     ]
    },
    {
     "name": "stdout",
     "output_type": "stream",
     "text": [
      "misbah\n"
     ]
    }
   ],
   "source": [
    "name = str(input(\"enter your name\"))\n",
    "print(name)"
   ]
  },
  {
   "cell_type": "code",
   "execution_count": null,
   "id": "b2581e47-b28a-4365-b1ee-0ca14ba112a5",
   "metadata": {},
   "outputs": [],
   "source": [
    "dict = {\n",
    "    \"name\" : \"Misbah\"\n",
    "}\n",
    "dict = \"age\"\n",
    "print(dict[\"name\"])"
   ]
  }
 ],
 "metadata": {
  "kernelspec": {
   "display_name": "Python 3 (ipykernel)",
   "language": "python",
   "name": "python3"
  },
  "language_info": {
   "codemirror_mode": {
    "name": "ipython",
    "version": 3
   },
   "file_extension": ".py",
   "mimetype": "text/x-python",
   "name": "python",
   "nbconvert_exporter": "python",
   "pygments_lexer": "ipython3",
   "version": "3.12.4"
  }
 },
 "nbformat": 4,
 "nbformat_minor": 5
}
